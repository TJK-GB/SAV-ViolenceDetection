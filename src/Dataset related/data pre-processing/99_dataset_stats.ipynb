{
 "cells": [
  {
   "cell_type": "code",
   "execution_count": 2,
   "id": "9521e2c6",
   "metadata": {},
   "outputs": [],
   "source": [
    "import pandas as pd\n",
    "import os\n",
    "\n",
    "ANNOTATION_DIR= r\"D:\\UK\\00. 2024 QMUL\\00. Course\\SAV-ViolenceDetection\\Annotations_Final\"\n",
    "FINAL_ANNOTATION_PATH = os.path.join(ANNOTATION_DIR, \"test\",\"use_combined_sound_frame_annotations_ver2.xlsx\") \n",
    "df = pd.read_excel(FINAL_ANNOTATION_PATH)"
   ]
  },
  {
   "cell_type": "code",
   "execution_count": 3,
   "id": "0f4f9e8e",
   "metadata": {},
   "outputs": [],
   "source": [
    "df = df[~((df['Violence Type (Video)'] == 'none') | (df['Video Type'] == 'Transition'))]\n",
    "# df[(df['Video Type'] == 'Others') & (df['Violence Type (Video)'] == 'none')]"
   ]
  },
  {
   "cell_type": "code",
   "execution_count": 213,
   "id": "dd7c927e",
   "metadata": {},
   "outputs": [
    {
     "name": "stdout",
     "output_type": "stream",
     "text": [
      "Total number of videos: 200\n",
      "Minimum video duration: 54.35 seconds\n",
      "Maximum video duration: 537.27 seconds\n",
      "Mean video duration: 113.02 seconds\n",
      "Mode video duration: 59.73 seconds\n",
      "The average ratio of violence vs non-violence segments within a video is 0.26 : 0.74\n",
      "\n",
      "Number of unique modalities: Modality\n",
      "Unimodal(Video)                   1552\n",
      "Multimodal(Video, Text)            555\n",
      "Multimodal(Video, Sound)           223\n",
      "Multimodal(Video, Sound, Text)      23\n",
      "Name: count, dtype: int64\n"
     ]
    }
   ],
   "source": [
    "# Total number of videos\n",
    "no_videos = df['Video ID'].nunique()\n",
    "\n",
    "# Minimum and maximum duration of videos\n",
    "video_duration = df.groupby('Video ID')['End time(s)'].max()\n",
    "min_duration = video_duration.min()\n",
    "max_duration = video_duration.max()\n",
    "\n",
    "# Mean/mode length of videos\n",
    "mean_duration = video_duration.mean()\n",
    "mode_duration = video_duration.mode()\n",
    "\n",
    "# Ratio of violence vs non-violence in videos\n",
    "df['Violence Type (Video)'] = df['Violence Type (Video)'].str.lower()\n",
    "\n",
    "video_stats = df.groupby('Video ID')['Violence Type (Video)'].value_counts().unstack(fill_value=0)\n",
    "\n",
    "video_stats['violence_ratio'] = video_stats['violent'] / (video_stats['violent'] + video_stats['non-violent'])\n",
    "video_stats['non_violence_ratio'] = 1 - video_stats['violence_ratio']\n",
    "\n",
    "avg_violence_ratio = video_stats['violence_ratio'].mean()\n",
    "avg_non_violence_ratio = video_stats['non_violence_ratio'].mean()\n",
    "\n",
    "def define_modality(row):\n",
    "    has_text = pd.notna(row['Violence Type (Text)'])\n",
    "    has_video = pd.notna(row['Violence Type (Video)'])\n",
    "    has_sound = pd.notna(row['Violence(Sound) Type1'])\n",
    "    if has_text and has_video and has_sound:\n",
    "        return 'Multimodal(Video, Sound, Text)'\n",
    "    elif has_text and has_video:\n",
    "        return 'Multimodal(Video, Text)'\n",
    "    elif has_text and has_sound:\n",
    "        return 'Multimodal(Sound, Text)'\n",
    "    elif has_video and has_sound:\n",
    "        return 'Multimodal(Video, Sound)'\n",
    "    elif has_text:\n",
    "        return 'Unimodal(Text)'\n",
    "    elif has_video:\n",
    "        return 'Unimodal(Video)'\n",
    "    elif has_sound:\n",
    "        return 'Unimodal(Sound)'\n",
    "    else:\n",
    "        return 'none'\n",
    "\n",
    "# Create Segment ID column\n",
    "df['Segment Position'] = df.groupby('Video ID').cumcount() + 1\n",
    "df['Segment ID'] = df['Video ID'].astype(str) + \"_\" + df['Segment Position'].astype(str)\n",
    "\n",
    "\n",
    "df['Modality'] = df.apply(define_modality, axis=1)\n",
    "\n",
    "print(f'Total number of videos: {no_videos}')\n",
    "print(f'Minimum video duration: {min_duration:.2f} seconds')\n",
    "print(f'Maximum video duration: {max_duration:.2f} seconds')\n",
    "print(f'Mean video duration: {mean_duration:.2f} seconds')\n",
    "print(f'Mode video duration: {mode_duration.values[0]:.2f} seconds')\n",
    "print(f'The average ratio of violence vs non-violence segments within a video is {avg_violence_ratio:.2f} : {avg_non_violence_ratio:.2f}\\n')\n",
    "print(f'Number of unique modalities: {df['Modality'].value_counts()}')\n"
   ]
  },
  {
   "cell_type": "code",
   "execution_count": 214,
   "id": "a2815b02",
   "metadata": {},
   "outputs": [],
   "source": [
    "df['Violence label(video)'] = df['Violence Type (Video)'].map({\n",
    "    'violent': 1,\n",
    "    'non-violent': 0\n",
    "})"
   ]
  },
  {
   "cell_type": "code",
   "execution_count": 215,
   "id": "220ca8f1",
   "metadata": {},
   "outputs": [],
   "source": [
    "df = df[\n",
    "    ~((df['Violence Type (Video)'] == 'none') &\n",
    "      (df['Video Type'] == 'Others') &\n",
    "      (df['Memo'].isna()) &\n",
    "      (df['Modality'] == 'Unimodal(Video)'))\n",
    "]"
   ]
  },
  {
   "cell_type": "code",
   "execution_count": 216,
   "id": "54bcacaa",
   "metadata": {},
   "outputs": [],
   "source": [
    "df = df.reindex(columns=['Video ID', 'Segment ID', 'Modality', 'Start frame', 'End frame', 'Start time(s)',\n",
    "       'End time(s)', 'Violence Type (Video)','Violence label(video)', 'Video Type',\n",
    "       'Violence Type (Text)', 'Texts', 'Memo', 'Violence(Sound) Type1',\n",
    "       'Sound type1', 'sound_start_frame1', 'sound_end_frame1',\n",
    "       'Violence(Sound) Type2', 'Sound type2', 'sound_start_frame2',\n",
    "       'sound_end_frame2', 'Violence(Sound) Type3', 'Sound type3',\n",
    "       'sound_start_frame3', 'sound_end_frame3', 'Violence(Sound) Type4',\n",
    "       'Sound type4', 'sound_start_frame4', 'sound_end_frame4',\n",
    "       'Violence(Sound) Type5', 'Sound type5', 'sound_start_frame5',\n",
    "       'sound_end_frame5', 'Violence(Sound) Type6', 'Sound type6',\n",
    "       'sound_start_frame6', 'sound_end_frame6', 'Violence(Sound) Type7',\n",
    "       'Sound type7', 'sound_start_frame7', 'sound_end_frame7',\n",
    "       'Violence(Sound) Type8', 'Sound type8', 'sound_start_frame8',\n",
    "       'sound_end_frame8', 'Violence(Sound) Type9', 'Sound type9',\n",
    "       'sound_start_frame9', 'sound_end_frame9', 'Violence(Sound) Type10',\n",
    "       'Sound type10', 'sound_start_frame10', 'sound_end_frame10',\n",
    "       'Violence(Sound) Type11', 'Sound type11', 'sound_start_frame11',\n",
    "       'sound_end_frame11', 'Filename', 'Segment Position'\n",
    "       ])"
   ]
  },
  {
   "cell_type": "code",
   "execution_count": null,
   "id": "554e7e8b",
   "metadata": {},
   "outputs": [],
   "source": [
    "df.to_csv(os.path.join(ANNOTATION_DIR, \"preprocessed_dataset_1.csv\"), index=False)"
   ]
  },
  {
   "cell_type": "code",
   "execution_count": 208,
   "id": "19476a7a",
   "metadata": {},
   "outputs": [
    {
     "data": {
      "text/plain": [
       "{'News': 1015,\n",
       " 'CCTV': 484,\n",
       " 'Self-filmed': 423,\n",
       " 'Combination': 123,\n",
       " 'Others': 105,\n",
       " 'Bodycam': 94,\n",
       " 'Dashcam': 80}"
      ]
     },
     "execution_count": 208,
     "metadata": {},
     "output_type": "execute_result"
    }
   ],
   "source": [
    "df['Violence Type (Video)'].value_counts().to_dict()\n",
    "df['Video Type'].value_counts().to_dict()"
   ]
  },
  {
   "cell_type": "code",
   "execution_count": 163,
   "id": "8ce7ad51",
   "metadata": {},
   "outputs": [
    {
     "data": {
      "text/plain": [
       "Video Type\n",
       "Bodycam          94\n",
       "CCTV            484\n",
       "Combination     123\n",
       "Dashcam          80\n",
       "News           1015\n",
       "Self-filmed     423\n",
       "dtype: int64"
      ]
     },
     "execution_count": 163,
     "metadata": {},
     "output_type": "execute_result"
    }
   ],
   "source": [
    "new_df = df[~df['Video Type'].isin(['Transition', 'Others'])]\n",
    "new_df.groupby('Video Type').size()"
   ]
  }
 ],
 "metadata": {
  "kernelspec": {
   "display_name": "Python 3",
   "language": "python",
   "name": "python3"
  },
  "language_info": {
   "codemirror_mode": {
    "name": "ipython",
    "version": 3
   },
   "file_extension": ".py",
   "mimetype": "text/x-python",
   "name": "python",
   "nbconvert_exporter": "python",
   "pygments_lexer": "ipython3",
   "version": "3.11.8"
  }
 },
 "nbformat": 4,
 "nbformat_minor": 5
}
