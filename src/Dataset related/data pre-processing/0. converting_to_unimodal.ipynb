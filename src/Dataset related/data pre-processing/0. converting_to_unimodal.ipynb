{
 "cells": [
  {
   "cell_type": "code",
   "execution_count": 2,
   "id": "5af2955e",
   "metadata": {},
   "outputs": [],
   "source": [
    "import pandas as pd\n",
    "import os\n",
    "\n",
    "# Load Excel\n",
    "excel_path = r\"D:\\UK\\00. 2024 QMUL\\00. Course\\Project\\00. ViolenceDetectionProject\\annotations\\Final\"\n",
    "excel_file = os.path.join(excel_path, \"preprocessed_dataset_1_unimodal.xlsx\")\n",
    "\n",
    "excel_data = pd.read_excel(excel_file)\n",
    "df = pd.DataFrame(excel_data)\n",
    "df\n",
    "\n",
    "# Transfer End time from 'add' to nearest above 'leave'\n",
    "used_add_indices = []\n",
    "for i, row in df.iterrows():\n",
    "    if row['Criteria'] == 'add':\n",
    "        endtime = row['End time(s)']\n",
    "        endframe = row['End frame']\n",
    "        \n",
    "        for j in range(i - 1, -1, -1):\n",
    "            if df.at[j, 'Criteria'] == 'leave':\n",
    "                df.at[j, 'End time(s)'] = endtime\n",
    "                df.at[j, 'End frame'] = endframe\n",
    "                used_add_indices.append(i)\n",
    "                break\n",
    "\n",
    "# Drop used 'add' rows\n",
    "df = df.drop(index=used_add_indices).reset_index(drop=True)\n",
    "\n",
    "df['No. Frames'] = df['End frame'] - df['Start frame'] + 1\n",
    "df['No. Frames'] = df['No. Frames'].astype(int)\n",
    "df['Segment Number'] = df.groupby('Video ID').cumcount() + 1\n",
    "df['Segment ID'] = df['Video ID'].astype(str) + '_' + df['Segment Number'].astype(str)\n",
    "df = df.drop(columns=['Segment Number'])\n",
    "keep_columns = ['Video ID', 'Segment ID', 'Start time(s)', 'End time(s)', 'Start frame', 'End frame', 'No. Frames', 'Violence label(video)']\n",
    "non_columns = df.columns.difference(keep_columns)\n",
    "df.drop(columns = non_columns, inplace=True)\n",
    "\n",
    "df.to_csv(os.path.join(excel_path, \"Unimodal dataset_0801_ver.1.csv\"), index=False)\n"
   ]
  },
  {
   "cell_type": "code",
   "execution_count": 49,
   "id": "462c7230",
   "metadata": {},
   "outputs": [
    {
     "name": "stdout",
     "output_type": "stream",
     "text": [
      "non-violence: average frames = 904.35\n",
      "violence: average frames = 324.71\n"
     ]
    }
   ],
   "source": [
    "average_frames_per_label = df.groupby('Violence label(video)')['No. Frames'].mean().reset_index()\n",
    "average_frames_per_label['Label Name'] = average_frames_per_label['Violence label(video)'].map({0: 'non-violence', 1: 'violence'})\n",
    "for _, row in average_frames_per_label.iterrows():\n",
    "    print(f\"{row['Label Name']}: average frames = {row['No. Frames']:.2f}\")"
   ]
  }
 ],
 "metadata": {
  "kernelspec": {
   "display_name": "Python 3",
   "language": "python",
   "name": "python3"
  },
  "language_info": {
   "codemirror_mode": {
    "name": "ipython",
    "version": 3
   },
   "file_extension": ".py",
   "mimetype": "text/x-python",
   "name": "python",
   "nbconvert_exporter": "python",
   "pygments_lexer": "ipython3",
   "version": "3.11.8"
  }
 },
 "nbformat": 4,
 "nbformat_minor": 5
}
